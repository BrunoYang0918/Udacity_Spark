{
 "cells": [
  {
   "cell_type": "markdown",
   "metadata": {},
   "source": [
    "# Sparkify Project Workspace"
   ]
  },
  {
   "cell_type": "markdown",
   "metadata": {},
   "source": [
    "You will first define the problem you want to solve and investigate potential solutions.\n",
    "\n",
    "Next, you will analyze the problem through visualizations and data exploration to have a better understanding of what algorithms and features are appropriate for solving it.\n",
    "\n",
    "You will then implement the algorithms and metrics of your choice, documenting the preprocessing, refinement, and post-processing steps along the way.\n",
    "\n",
    "Afterwards, you will collect results about your findings, visualize significant quantities, validate/justify your results, and make any concluding remarks about whether your implementation adequately solves the problem.\n",
    "\n",
    "Finally, you will construct a blog post (or other medium for a write-up) to document all of the steps from start to finish of your project, or deploy your results into a web application."
   ]
  },
  {
   "cell_type": "code",
   "execution_count": 1,
   "metadata": {},
   "outputs": [],
   "source": [
    "# Load In Library\n",
    "from pyspark.sql import SparkSession\n",
    "from pyspark.sql.functions import avg, col, concat, desc, explode, lit, min, max, split, udf, \\\n",
    "isnan, when, count, col, countDistinct, from_unixtime, year, month, dayofmonth\n",
    "from pyspark.sql.types import IntegerType, DateType, StringType\n",
    "\n",
    "from pyspark.ml import Pipeline\n",
    "from pyspark.ml.classification import RandomForestClassifier\n",
    "from pyspark.ml.evaluation import MulticlassClassificationEvaluator\n",
    "from pyspark.ml.feature import OneHotEncoder, StringIndexer, VectorIndexer, CountVectorizer, IDF, Normalizer, PCA, RegexTokenizer, StandardScaler, StopWordsRemover, StringIndexer, VectorAssembler\n",
    "from pyspark.ml.regression import LinearRegression\n",
    "from pyspark.ml.tuning import CrossValidator, ParamGridBuilder\n",
    "\n",
    "import seaborn as sns\n",
    "\n",
    "import re"
   ]
  },
  {
   "cell_type": "code",
   "execution_count": 2,
   "metadata": {},
   "outputs": [],
   "source": [
    "# create a Spark session\n",
    "spark = SparkSession.builder \\\n",
    "    .master(\"local\") \\\n",
    "    .appName(\"Creating Features\") \\\n",
    "    .getOrCreate()"
   ]
  },
  {
   "cell_type": "markdown",
   "metadata": {},
   "source": [
    "# Project Definition\n",
    "### Project Overview\n",
    "The purpose of this study is to predict the next action of users so that company can take actions to aviod clients to leave us or downgrade from paid users to unpaid users. The meaning of this project can help companies to keep the revenue status.\n",
    "\n",
    "### Problem Statement\n",
    "The key problem we are facing here is to use the users activities to predict their next big steps, such as leaving us. We as an analyst would need to use historical log records to find out the pattern that users leaving us normally have and using those features to define the protential of a specific user to leave us.\n",
    "\n",
    "### Metrics\n",
    "Metrics used to measure performance of our model is based on the prediction accuracy. To be more specific F1 Score, which is a combination of both precision and recall."
   ]
  },
  {
   "cell_type": "markdown",
   "metadata": {},
   "source": [
    "# Load and Clean Dataset"
   ]
  },
  {
   "cell_type": "code",
   "execution_count": 3,
   "metadata": {
    "scrolled": true
   },
   "outputs": [
    {
     "data": {
      "text/plain": [
       "DataFrame[artist: string, auth: string, firstName: string, gender: string, itemInSession: bigint, lastName: string, length: double, level: string, location: string, method: string, page: string, registration: bigint, sessionId: bigint, song: string, status: bigint, ts: bigint, userAgent: string, userId: string]"
      ]
     },
     "execution_count": 3,
     "metadata": {},
     "output_type": "execute_result"
    }
   ],
   "source": [
    "# Loadin Datasets\n",
    "evt_data = 'mini_sparkify_event_data.json'\n",
    "df = spark.read.json(evt_data)\n",
    "df.persist()"
   ]
  },
  {
   "cell_type": "code",
   "execution_count": 4,
   "metadata": {},
   "outputs": [
    {
     "name": "stdout",
     "output_type": "stream",
     "text": [
      "root\n",
      " |-- artist: string (nullable = true)\n",
      " |-- auth: string (nullable = true)\n",
      " |-- firstName: string (nullable = true)\n",
      " |-- gender: string (nullable = true)\n",
      " |-- itemInSession: long (nullable = true)\n",
      " |-- lastName: string (nullable = true)\n",
      " |-- length: double (nullable = true)\n",
      " |-- level: string (nullable = true)\n",
      " |-- location: string (nullable = true)\n",
      " |-- method: string (nullable = true)\n",
      " |-- page: string (nullable = true)\n",
      " |-- registration: long (nullable = true)\n",
      " |-- sessionId: long (nullable = true)\n",
      " |-- song: string (nullable = true)\n",
      " |-- status: long (nullable = true)\n",
      " |-- ts: long (nullable = true)\n",
      " |-- userAgent: string (nullable = true)\n",
      " |-- userId: string (nullable = true)\n",
      "\n",
      "artist has 58392 empty rows\n",
      "auth has 0 empty rows\n",
      "firstName has 8346 empty rows\n",
      "gender has 8346 empty rows\n",
      "itemInSession has 0 empty rows\n",
      "lastName has 8346 empty rows\n",
      "length has 58392 empty rows\n",
      "level has 0 empty rows\n",
      "location has 8346 empty rows\n",
      "method has 0 empty rows\n",
      "page has 0 empty rows\n",
      "registration has 8346 empty rows\n",
      "sessionId has 0 empty rows\n",
      "song has 58392 empty rows\n",
      "status has 0 empty rows\n",
      "ts has 0 empty rows\n",
      "userAgent has 8346 empty rows\n",
      "userId has 0 empty rows\n"
     ]
    }
   ],
   "source": [
    "# Clean Datasets\n",
    "# 1. Print out Schema to have a general idea about the columns included\n",
    "df.printSchema()\n",
    "\n",
    "# 2. Check the missing info status, records without userids, or sessionids.\n",
    "# As per result showned below, there are two types of missing amount. One has 58392 missing rows and the other has 8346\n",
    "# missing rows. The 8346 empty rows are baseically because the users are not registered and we are not able to gather information \n",
    "# because of that.\n",
    "for column in df.columns:\n",
    "    v = df.where(col(column).isNull()).count()\n",
    "    print(\"{} has {} empty rows\".format(column, v))\n",
    "\n",
    "# 3. Check unique values for each columns\n",
    "[df.select(col).distinct().count() for col in df.columns]\n",
    "\n",
    "# 4. Fill null gender with 'Not Sure'\n",
    "df = df.na.fill({'gender': 'Not Sure'})"
   ]
  },
  {
   "cell_type": "markdown",
   "metadata": {},
   "source": [
    "# Exploratory Data Analysis\n",
    "\n",
    "### Define Churn\n",
    "\n",
    "This study would use and track `Cancellation Confirmation` events as the indicator of `Churn`.\n",
    "\n",
    "### Explore Data\n",
    "\n",
    "Additional study regarding the churn activities is explorated below by comparing the num of song listened by users. \n",
    "In the page column, we can notice there is one option called \"Cancellation Confirmation\". This means we have completely lose this client. For the test datasets, we find there are 52 users accounts that cancelled our services, which takes account for 23% of the total user ids."
   ]
  },
  {
   "cell_type": "code",
   "execution_count": 5,
   "metadata": {},
   "outputs": [
    {
     "name": "stdout",
     "output_type": "stream",
     "text": [
      "auth has values of ['Logged Out', 'Cancelled', 'Guest', 'Logged In']\n",
      "gender has values of ['F', 'M', 'Not Sure']\n",
      "level has values of ['free', 'paid']\n",
      "page has values of ['Cancel', 'Submit Downgrade', 'Thumbs Down', 'Home', 'Downgrade', 'Roll Advert', 'Logout', 'Save Settings', 'Cancellation Confirmation', 'About', 'Submit Registration', 'Settings', 'Login', 'Register', 'Add to Playlist', 'Add Friend', 'NextSong', 'Thumbs Up', 'Help', 'Upgrade', 'Error', 'Submit Upgrade']\n",
      "registration has values of [1529027541000, 1533192032000, 1537779419000, 1534627466000, 1535389443000, 1536642109000, 1537167593000, 1536854322000, 1533908361000, 1536817381000, 1536663902000, 1537672236000, 1536956945000, 1537611935000, 1537751138000, 1533532298000, 1537057938000, 1537964483000, 1528772084000, 1537440271000, 1536303841000, 1534768517000, 1537484200000, 1538050164000, 1532450666000, 1536032681000, 1534461078000, 1538331630000, 1536102943000, 1536831228000, 1535623466000, 1537306307000, 1537522781000, 1531769420000, 1532920994000, 1536954914000, 1533247234000, 1534622171000, 1531804365000, 1536287099000, 1538239045000, 1531350022000, 1534175704000, 1537208989000, 1534513445000, None, 1535269914000, 1538169823000, 1535525247000, 1537970819000, 1537939256000, 1536824159000, 1532610926000, 1536257455000, 1537812949000, 1536126401000, 1536963671000, 1531760527000, 1521380675000, 1537586184000, 1536948181000, 1536963370000, 1538211832000, 1535047210000, 1535066380000, 1536372490000, 1536980520000, 1537638755000, 1536855067000, 1538065863000, 1537821607000, 1533522419000, 1538173362000, 1537309344000, 1535400650000, 1537767796000, 1537376437000, 1537539836000, 1536343087000, 1537043743000, 1528780738000, 1532625569000, 1535903878000, 1537456136000, 1535660231000, 1535774889000, 1533812833000, 1532482662000, 1538304455000, 1537749786000, 1530789251000, 1532498424000, 1531910878000, 1537971741000, 1533438580000, 1536138073000, 1528403713000, 1530333492000, 1537054553000, 1536403972000, 1537956751000, 1534613931000, 1537764007000, 1532433959000, 1532771049000, 1531281160000, 1537120757000, 1534779204000, 1536269906000, 1535032914000, 1537531076000, 1537893493000, 1535271638000, 1536679150000, 1534133898000, 1530674962000, 1538120859000, 1534255113000, 1538016340000, 1537982255000, 1533758535000, 1538313468000, 1532899177000, 1530763799000, 1537898335000, 1537082511000, 1538316317000, 1535498705000, 1541370470000, 1537665002000, 1535907116000, 1536158069000, 1537920589000, 1536799770000, 1537367773000, 1530306321000, 1538080987000, 1537811988000, 1536398117000, 1537034286000, 1537915702000, 1534613601000, 1537053412000, 1533885783000, 1534359998000, 1536844410000, 1528560242000, 1537550344000, 1537149749000, 1532634173000, 1538255180000, 1532696273000, 1532224335000, 1536795126000, 1537201808000, 1536019842000, 1537365219000, 1530514394000, 1532589384000, 1537699856000, 1535268719000, 1526838391000, 1538289776000, 1531811983000, 1537634865000, 1535062159000, 1538227408000, 1537679535000, 1536589088000, 1541223737000, 1533102330000, 1531679695000, 1535591420000, 1529252604000, 1536935950000, 1536816590000, 1537681013000, 1537347211000, 1537897424000, 1534245996000, 1538336771000, 1532472246000, 1537707098000, 1533629444000, 1538333829000, 1534318843000, 1533157139000, 1533995214000, 1537890437000, 1541268021000, 1536563533000, 1536659447000, 1537014411000, 1532364714000, 1536850071000, 1526739206000, 1535361448000, 1535093367000, 1537381154000, 1537862870000, 1536988041000, 1534942082000, 1540940608000, 1537142824000, 1538159495000, 1529934689000, 1533650280000, 1536919023000, 1538215963000, 1536597540000, 1537865819000, 1534370883000, 1534859694000, 1538069638000, 1533398428000, 1537618437000, 1543247354000, 1537188538000, 1536649963000, 1532554781000, 1529643103000, 1536667576000, 1533886191000, 1538253263000, 1533670697000, 1537537765000]\n"
     ]
    },
    {
     "name": "stderr",
     "output_type": "stream",
     "text": [
      "IOPub data rate exceeded.\n",
      "The notebook server will temporarily stop sending output\n",
      "to the client in order to avoid crashing it.\n",
      "To change this limit, set the config variable\n",
      "`--NotebookApp.iopub_data_rate_limit`.\n",
      "\n",
      "Current values:\n",
      "NotebookApp.iopub_data_rate_limit=1000000.0 (bytes/sec)\n",
      "NotebookApp.rate_limit_window=3.0 (secs)\n",
      "\n"
     ]
    },
    {
     "name": "stdout",
     "output_type": "stream",
     "text": [
      "userId has values of ['100010', '200002', '125', '51', '124', '7', '54', '15', '155', '132', '154', '100014', '101', '11', '138', '300017', '29', '69', '100021', '42', '112', '87', '73', '64', '200010', '3', '30', '113', '34', '133', '59', '146', '139', '8', '28', '22', '300018', '300012', '100022', '85', '52', '35', '16', '300008', '71', '98', '300013', '99', '47', '100008', '100025', '110', '107', '300006', '300002', '96', '43', '300007', '5', '100', '100006', '18', '70', '100005', '27', '61', '75', '131', '126', '140', '17', '26', '100007', '120', '200007', '46', '300004', '147', '300001', '78', '300015', '77', '89', '136', '6', '118', '300019', '200014', '100009', '300011', '90', '104', '68', '60', '100004', '200003', '100015', '19', '300023', '300024', '41', '128', '23', '200024', '102', '55', '200008', '111', '100016', '100003', '95', '93', '40', '38', '103', '200005', '25', '200009', '135', '44', '156', '144', '100024', '115', '82', '200023', '53', '92', '122', '117', '108', '300010', '86', '200017', '58', '100011', '100019', '300014', '81', '33', '114', '150', '100012', '200018', '200025', '200016', '300003', '153', '200020', '141', '148', '97', '67', '106', '84', '143', '79', '300025', '9', '24', '32', '116', '152', '88', '134', '200001', '149', '105', '20', '200011', '200006', '100023', '142', '100013', '56', '127', '36', '300009', '10', '37', '300022', '49', '300021', '200004', '300005', '100017', '63', '300020', '65', '4', '121', '39', '200012', '62', '12', '83', '', '109', '123', '200022', '13', '200019', '14', '21', '66', '94', '91', '74', '137', '72', '300016', '151', '200015', '129', '76', '2', '80', '100018', '100002', '50', '145', '45', '57', '200021', '119', '100001']\n"
     ]
    }
   ],
   "source": [
    "# 1. Take a look at the unique values of columns to generate ideas of the raw data\n",
    "cols_to_check = ['auth', 'gender', 'level', 'page', 'registration', 'ts', 'userId']\n",
    "for column in cols_to_check:\n",
    "    v = df.select(column).distinct().rdd.map(lambda r: r[0]).collect()\n",
    "    print(\"{} has values of {}\".format(column, v))"
   ]
  },
  {
   "cell_type": "code",
   "execution_count": 6,
   "metadata": {},
   "outputs": [],
   "source": [
    "# 2. User Cancellsation Analysis\n",
    "# Take a look at those users with page activities include Cancellation Confirmation\n",
    "df.where('auth=\"Cancelled\"').select('userId').distinct().count()\n",
    "\n",
    "# Take a look at the total users pool\n",
    "cel_pct = df.where('auth=\"Cancelled\"').select('userId').distinct().count()/df.select('userId').distinct().count()"
   ]
  },
  {
   "cell_type": "code",
   "execution_count": 7,
   "metadata": {},
   "outputs": [],
   "source": [
    "# 3. Define Churn Columns\n",
    "flag_cancel_event = udf(lambda x: 1 if x == \"Cancellation Confirmation\" else 0, IntegerType())\n",
    "df_churn = df.withColumn(\"Churn\", flag_cancel_event(\"page\"))"
   ]
  },
  {
   "cell_type": "code",
   "execution_count": 8,
   "metadata": {},
   "outputs": [],
   "source": [
    "# 4. Check the status of Churned Users to verify if the same user has two option, namely 1 and 0 for Churn columns\n",
    "churned_user_li = df_churn.groupBy('userId').agg(countDistinct(\"Churn\").alias(\"Count_Churn\")).where('Count_Churn=2').select('userId').collect()\n",
    "churned_user = [r['userId'] for r in churned_user_li]"
   ]
  },
  {
   "cell_type": "code",
   "execution_count": 9,
   "metadata": {},
   "outputs": [],
   "source": [
    "# 5. Differentiate Users in terms of if they have churned\n",
    "flag_calcel_user = udf(lambda x: \"Lost Client\" if x in churned_user else \"Client\", StringType())\n",
    "df_churn = df.withColumn(\"Churn User\", flag_calcel_user(\"userId\"))"
   ]
  },
  {
   "cell_type": "code",
   "execution_count": 10,
   "metadata": {},
   "outputs": [],
   "source": [
    "# 6. Use timestamp column to create date\n",
    "df_churn = df_churn.withColumn('Date', from_unixtime(df_churn.ts/1000))\n",
    "df_churn = df_churn.withColumn('Year', year(df_churn.Date))\n",
    "df_churn = df_churn.withColumn('Month', month(df_churn.Date))\n",
    "df_churn = df_churn.withColumn('Days', dayofmonth(df_churn.Date))"
   ]
  },
  {
   "cell_type": "code",
   "execution_count": 11,
   "metadata": {},
   "outputs": [],
   "source": [
    "# 7. Groupby Result to show the data logic\n",
    "# Check the played song number and the relationship with time\n",
    "# As per 1st stage observation, all the data is for Year 2018 and there are only few rows for November and December.\n",
    "df_song_user = df_churn.filter('page=\"NextSong\"').filter('Month ==10')\n",
    "df_song_count = df_song_user.groupBy('Churn User', 'Days', 'page').agg(count('song').alias(\"Total Song Played\")).toPandas()\n",
    "\n",
    "# Order Groupby Result\n",
    "df_song_count = df_song_count.sort_values(['Churn User', 'Days'])\n",
    "\n",
    "# 8. Get number of users by group\n",
    "df_unique_users = df_song_user.groupBy('Churn User').agg(countDistinct('userID').alias('Unique Users')).toPandas()\n",
    "\n",
    "# 9. Get Average Songs Per User\n",
    "lost_num = df_unique_users[df_unique_users['Churn User'] == \"Lost Client\"]['Unique Users'].values[0]\n",
    "exist_num = df_unique_users[df_unique_users['Churn User'] == \"Client\"]['Unique Users'].values[0]\n",
    "df_song_count['Song Per User'] = df_song_count.apply(lambda x: int(x['Total Song Played']/exist_num) if x['Churn User'] == \"Lost Client\" else int(x['Total Song Played']/lost_num), axis = 1)"
   ]
  },
  {
   "cell_type": "code",
   "execution_count": 12,
   "metadata": {},
   "outputs": [
    {
     "data": {
      "image/png": "[encoded data removed]",
      "text/plain": [
       "<matplotlib.figure.Figure at 0x7f085407d630>"
      ]
     },
     "metadata": {
      "needs_background": "light"
     },
     "output_type": "display_data"
    }
   ],
   "source": [
    "# 10. Use groupby result to create visualizations\n",
    "ax = sns.barplot(x=\"Days\", y=\"Song Per User\", hue=\"Churn User\", data=df_song_count)"
   ]
  },
  {
   "cell_type": "markdown",
   "metadata": {},
   "source": [
    "# Feature Engineering\n",
    "Those columns: 'gender', 'page', 'ts', 'userId', 'level' are used as the based parameters to predict the lost of clients. "
   ]
  },
  {
   "cell_type": "code",
   "execution_count": 13,
   "metadata": {},
   "outputs": [],
   "source": [
    "# Feature Extraction\n",
    "# 1. Define related features required from the original dataset\n",
    "cols = ['gender', 'page', 'ts', 'userId', 'level']\n",
    "\n",
    "# 2. Extract Required Features\n",
    "def feature_extract(df):\n",
    "    # 1. Select Required Columns\n",
    "    df = df.select(cols)\n",
    "    \n",
    "    # 2. Add Additional Columns\n",
    "    # 2.1 Define Churn Columns\n",
    "    flag_cancel_event = udf(lambda x: 1 if x == \"Cancellation Confirmation\" else 0, IntegerType())\n",
    "    df_churn = df.withColumn(\"Churn\", flag_cancel_event(\"page\"))\n",
    "    \n",
    "    # 2.2 Check the status of Churned Users to verify if the same user has two option, namely 1 and 0 for Churn columns\n",
    "    churned_user_li = df_churn.groupBy('userId').agg(countDistinct(\"Churn\").alias(\"Count_Churn\")).where('Count_Churn=2').select('userId').collect()\n",
    "    churned_user = [r['userId'] for r in churned_user_li]\n",
    "    \n",
    "    # 2.3 Differentiate Users in terms of if they have churned\n",
    "    flag_calcel_user = udf(lambda x: \"Lost Client\" if x in churned_user else \"Client\", StringType())\n",
    "    df_churn = df.withColumn(\"Churn User\", flag_calcel_user(\"userId\"))\n",
    "    \n",
    "    # 2.4 Time Stamps to Date\n",
    "    df_churn = df_churn.withColumn('Date', from_unixtime(df_churn.ts/1000))\n",
    "    df_churn = df_churn.withColumn('Year', year(df_churn.Date))\n",
    "    df_churn = df_churn.withColumn('Month', month(df_churn.Date))\n",
    "    df_churn = df_churn.withColumn('Days', dayofmonth(df_churn.Date))\n",
    "    \n",
    "    # 3. Output Modelling related columns\n",
    "    df_model = df_churn.select('gender', 'page', 'Churn User','level', 'userId', 'Year', 'Month', 'Days')\n",
    "    \n",
    "    return df_model"
   ]
  },
  {
   "cell_type": "code",
   "execution_count": 14,
   "metadata": {},
   "outputs": [],
   "source": [
    "df_new = feature_extract(df)"
   ]
  },
  {
   "cell_type": "markdown",
   "metadata": {},
   "source": [
    "# Modeling\n",
    "A model function is created, which help to split dataset, build model pipeline, as well as tuning the model"
   ]
  },
  {
   "cell_type": "code",
   "execution_count": 15,
   "metadata": {},
   "outputs": [],
   "source": [
    "def model(df):\n",
    "    # 1. Split Train & Test Data\n",
    "    rest, validation = df.randomSplit([0.8, 0.2], seed=42)\n",
    "    \n",
    "    # 2. Build Model Pipeline\n",
    "    # Index labels, adding metadata to the label column.\n",
    "    # Fit on whole dataset to include all labels in index.\n",
    "    genderIndexer = StringIndexer(inputCol=\"gender\", outputCol=\"indexed_gender\")\n",
    "    levelIndexer = StringIndexer(inputCol=\"level\", outputCol=\"indexed_level\")\n",
    "    churnIndexer = StringIndexer(inputCol=\"Churn User\", outputCol=\"indexed_churn_user\")\n",
    "\n",
    "\n",
    "    # One Hot Encoder on indexed features\n",
    "    genderEncoder = OneHotEncoder(inputCol=\"indexed_gender\", outputCol=\"gender_vec\")\n",
    "    levelEncoder = OneHotEncoder(inputCol=\"indexed_level\", outputCol=\"level_vec\")\n",
    "    \n",
    "    # Create the vector structured data (label,features(vector))\n",
    "    assembler = VectorAssembler(inputCols=[\"gender_vec\", 'level_vec'], outputCol=\"features\")\n",
    "    \n",
    "    # Train the model\n",
    "    rf = RandomForestClassifier(labelCol=\"indexed_churn_user\", featuresCol=\"features\")\n",
    "    \n",
    "    # Chain indexers and forest in a Pipeline\n",
    "    pipeline = Pipeline(stages=[genderIndexer, levelIndexer, churnIndexer, genderEncoder, \\\n",
    "                                levelEncoder, assembler, rf])\n",
    "    \n",
    "    # Cross Validation\n",
    "    paramGrid = ParamGridBuilder() \\\n",
    "    .addGrid(rf.numTrees,[10, 20]) \\\n",
    "    .build()\n",
    "    crossval = CrossValidator(estimator=pipeline,\n",
    "                              estimatorParamMaps=paramGrid,\n",
    "                              evaluator=MulticlassClassificationEvaluator(labelCol=\"indexed_churn_user\", metricName=\"f1\"),\n",
    "                              numFolds=3)\n",
    "    # Train the model\n",
    "    cvModel = crossval.fit(rest)\n",
    "\n",
    "    # Show the model F1 Score on test datasets\n",
    "    results = cvModel.transform(validation)\n",
    "    rate = results.filter(results.indexed_churn_user == results.prediction).count()/results.count()\n",
    "    print('The F1 Score on test dataset is {:.2%}'.format(rate))\n",
    "    \n",
    "    return cvModel"
   ]
  },
  {
   "cell_type": "code",
   "execution_count": 16,
   "metadata": {},
   "outputs": [
    {
     "name": "stdout",
     "output_type": "stream",
     "text": [
      "The F1 Score on test dataset is 84.55%\n"
     ]
    }
   ],
   "source": [
    "model = model(df_new)"
   ]
  }
 ],
 "metadata": {
  "kernelspec": {
   "display_name": "Python 3",
   "language": "python",
   "name": "python3"
  },
  "language_info": {
   "codemirror_mode": {
    "name": "ipython",
    "version": 3
   },
   "file_extension": ".py",
   "mimetype": "text/x-python",
   "name": "python",
   "nbconvert_exporter": "python",
   "pygments_lexer": "ipython3",
   "version": "3.6.3"
  }
 },
 "nbformat": 4,
 "nbformat_minor": 2
}
